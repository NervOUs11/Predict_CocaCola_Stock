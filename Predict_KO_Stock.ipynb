{
  "nbformat": 4,
  "nbformat_minor": 0,
  "metadata": {
    "colab": {
      "name": "Predict_KO_Stock.ipynb",
      "provenance": [],
      "authorship_tag": "ABX9TyMHMsRoIZjJ8mMJ3WoAmRMB",
      "include_colab_link": true
    },
    "kernelspec": {
      "name": "python3",
      "display_name": "Python 3"
    },
    "language_info": {
      "name": "python"
    }
  },
  "cells": [
    {
      "cell_type": "markdown",
      "metadata": {
        "id": "view-in-github",
        "colab_type": "text"
      },
      "source": [
        "<a href=\"https://colab.research.google.com/github/NervOUs11/Predict_CocaCola_Stock/blob/main/Predict_KO_Stock.ipynb\" target=\"_parent\"><img src=\"https://colab.research.google.com/assets/colab-badge.svg\" alt=\"Open In Colab\"/></a>"
      ]
    },
    {
      "cell_type": "code",
      "source": [
        "!pip install pandas"
      ],
      "metadata": {
        "colab": {
          "base_uri": "https://localhost:8080/"
        },
        "id": "T4aQnF3De2ka",
        "outputId": "80c33ca0-60f0-4b19-9640-3d699c523f78"
      },
      "execution_count": 4,
      "outputs": [
        {
          "output_type": "stream",
          "name": "stdout",
          "text": [
            "Looking in indexes: https://pypi.org/simple, https://us-python.pkg.dev/colab-wheels/public/simple/\n",
            "Requirement already satisfied: pandas in /usr/local/lib/python3.7/dist-packages (1.3.5)\n",
            "Requirement already satisfied: pytz>=2017.3 in /usr/local/lib/python3.7/dist-packages (from pandas) (2022.1)\n",
            "Requirement already satisfied: numpy>=1.17.3 in /usr/local/lib/python3.7/dist-packages (from pandas) (1.21.6)\n",
            "Requirement already satisfied: python-dateutil>=2.7.3 in /usr/local/lib/python3.7/dist-packages (from pandas) (2.8.2)\n",
            "Requirement already satisfied: six>=1.5 in /usr/local/lib/python3.7/dist-packages (from python-dateutil>=2.7.3->pandas) (1.15.0)\n"
          ]
        }
      ]
    },
    {
      "cell_type": "code",
      "source": [
        "# For use DataReader in pandas\n",
        "!pip install --upgrade pandas\n",
        "!pip install --upgrade pandas-datareader"
      ],
      "metadata": {
        "colab": {
          "base_uri": "https://localhost:8080/"
        },
        "id": "Fj1pK5G0fQoC",
        "outputId": "4e33d534-a73a-4b39-a201-fbb8505c1a51"
      },
      "execution_count": 5,
      "outputs": [
        {
          "output_type": "stream",
          "name": "stdout",
          "text": [
            "Looking in indexes: https://pypi.org/simple, https://us-python.pkg.dev/colab-wheels/public/simple/\n",
            "Requirement already satisfied: pandas in /usr/local/lib/python3.7/dist-packages (1.3.5)\n",
            "Requirement already satisfied: python-dateutil>=2.7.3 in /usr/local/lib/python3.7/dist-packages (from pandas) (2.8.2)\n",
            "Requirement already satisfied: numpy>=1.17.3 in /usr/local/lib/python3.7/dist-packages (from pandas) (1.21.6)\n",
            "Requirement already satisfied: pytz>=2017.3 in /usr/local/lib/python3.7/dist-packages (from pandas) (2022.1)\n",
            "Requirement already satisfied: six>=1.5 in /usr/local/lib/python3.7/dist-packages (from python-dateutil>=2.7.3->pandas) (1.15.0)\n",
            "Looking in indexes: https://pypi.org/simple, https://us-python.pkg.dev/colab-wheels/public/simple/\n",
            "Requirement already satisfied: pandas-datareader in /usr/local/lib/python3.7/dist-packages (0.10.0)\n",
            "Requirement already satisfied: lxml in /usr/local/lib/python3.7/dist-packages (from pandas-datareader) (4.2.6)\n",
            "Requirement already satisfied: requests>=2.19.0 in /usr/local/lib/python3.7/dist-packages (from pandas-datareader) (2.23.0)\n",
            "Requirement already satisfied: pandas>=0.23 in /usr/local/lib/python3.7/dist-packages (from pandas-datareader) (1.3.5)\n",
            "Requirement already satisfied: python-dateutil>=2.7.3 in /usr/local/lib/python3.7/dist-packages (from pandas>=0.23->pandas-datareader) (2.8.2)\n",
            "Requirement already satisfied: numpy>=1.17.3 in /usr/local/lib/python3.7/dist-packages (from pandas>=0.23->pandas-datareader) (1.21.6)\n",
            "Requirement already satisfied: pytz>=2017.3 in /usr/local/lib/python3.7/dist-packages (from pandas>=0.23->pandas-datareader) (2022.1)\n",
            "Requirement already satisfied: six>=1.5 in /usr/local/lib/python3.7/dist-packages (from python-dateutil>=2.7.3->pandas>=0.23->pandas-datareader) (1.15.0)\n",
            "Requirement already satisfied: chardet<4,>=3.0.2 in /usr/local/lib/python3.7/dist-packages (from requests>=2.19.0->pandas-datareader) (3.0.4)\n",
            "Requirement already satisfied: urllib3!=1.25.0,!=1.25.1,<1.26,>=1.21.1 in /usr/local/lib/python3.7/dist-packages (from requests>=2.19.0->pandas-datareader) (1.24.3)\n",
            "Requirement already satisfied: idna<3,>=2.5 in /usr/local/lib/python3.7/dist-packages (from requests>=2.19.0->pandas-datareader) (2.10)\n",
            "Requirement already satisfied: certifi>=2017.4.17 in /usr/local/lib/python3.7/dist-packages (from requests>=2.19.0->pandas-datareader) (2022.6.15)\n"
          ]
        }
      ]
    },
    {
      "cell_type": "code",
      "execution_count": 6,
      "metadata": {
        "id": "djHG_hu5V8kO"
      },
      "outputs": [],
      "source": [
        "# Import libraries\n",
        "import math\n",
        "import pandas_datareader.data as pdr\n",
        "import numpy as np\n",
        "import pandas as pd\n",
        "from sklearn.preprocessing import MinMaxScaler\n",
        "from keras.models import Sequential\n",
        "from keras.layers import Dense, LSTM\n",
        "import matplotlib.pyplot as plt"
      ]
    },
    {
      "cell_type": "code",
      "source": [
        "#Get the stock quote\n",
        "start = '2012-01-01'\n",
        "end = '2022-06-25'\n",
        "df = pdr.DataReader('KO', data_source='yahoo', start=start,end=end)\n",
        "# show \n",
        "df"
      ],
      "metadata": {
        "colab": {
          "base_uri": "https://localhost:8080/",
          "height": 455
        },
        "id": "NGVGssABXmve",
        "outputId": "aa1eb62e-36bc-489d-c40e-f4977f857588"
      },
      "execution_count": 27,
      "outputs": [
        {
          "output_type": "execute_result",
          "data": {
            "text/plain": [
              "                 High        Low       Open      Close      Volume  Adj Close\n",
              "Date                                                                         \n",
              "2012-01-03  35.355000  35.049999  35.075001  35.070000  15639600.0  25.261473\n",
              "2012-01-04  35.035000  34.750000  34.955002  34.849998  14239200.0  25.103006\n",
              "2012-01-05  34.935001  34.674999  34.880001  34.685001  14287600.0  24.984163\n",
              "2012-01-06  34.814999  34.310001  34.735001  34.465000  13646600.0  24.825686\n",
              "2012-01-09  34.584999  34.400002  34.500000  34.465000  10522600.0  24.825686\n",
              "...               ...        ...        ...        ...         ...        ...\n",
              "2022-06-17  60.130001  59.130001  59.700001  59.430000  34731500.0  59.430000\n",
              "2022-06-21  60.880001  59.009998  59.490002  60.700001  17705000.0  60.700001\n",
              "2022-06-22  61.450001  60.320000  60.599998  61.150002  15207100.0  61.150002\n",
              "2022-06-23  61.910000  61.230000  61.299999  61.880001  17190900.0  61.880001\n",
              "2022-06-24  63.060001  62.110001  62.110001  63.040001  18145700.0  63.040001\n",
              "\n",
              "[2637 rows x 6 columns]"
            ],
            "text/html": [
              "\n",
              "  <div id=\"df-a637551f-088a-4de3-81d7-fa9cca38e223\">\n",
              "    <div class=\"colab-df-container\">\n",
              "      <div>\n",
              "<style scoped>\n",
              "    .dataframe tbody tr th:only-of-type {\n",
              "        vertical-align: middle;\n",
              "    }\n",
              "\n",
              "    .dataframe tbody tr th {\n",
              "        vertical-align: top;\n",
              "    }\n",
              "\n",
              "    .dataframe thead th {\n",
              "        text-align: right;\n",
              "    }\n",
              "</style>\n",
              "<table border=\"1\" class=\"dataframe\">\n",
              "  <thead>\n",
              "    <tr style=\"text-align: right;\">\n",
              "      <th></th>\n",
              "      <th>High</th>\n",
              "      <th>Low</th>\n",
              "      <th>Open</th>\n",
              "      <th>Close</th>\n",
              "      <th>Volume</th>\n",
              "      <th>Adj Close</th>\n",
              "    </tr>\n",
              "    <tr>\n",
              "      <th>Date</th>\n",
              "      <th></th>\n",
              "      <th></th>\n",
              "      <th></th>\n",
              "      <th></th>\n",
              "      <th></th>\n",
              "      <th></th>\n",
              "    </tr>\n",
              "  </thead>\n",
              "  <tbody>\n",
              "    <tr>\n",
              "      <th>2012-01-03</th>\n",
              "      <td>35.355000</td>\n",
              "      <td>35.049999</td>\n",
              "      <td>35.075001</td>\n",
              "      <td>35.070000</td>\n",
              "      <td>15639600.0</td>\n",
              "      <td>25.261473</td>\n",
              "    </tr>\n",
              "    <tr>\n",
              "      <th>2012-01-04</th>\n",
              "      <td>35.035000</td>\n",
              "      <td>34.750000</td>\n",
              "      <td>34.955002</td>\n",
              "      <td>34.849998</td>\n",
              "      <td>14239200.0</td>\n",
              "      <td>25.103006</td>\n",
              "    </tr>\n",
              "    <tr>\n",
              "      <th>2012-01-05</th>\n",
              "      <td>34.935001</td>\n",
              "      <td>34.674999</td>\n",
              "      <td>34.880001</td>\n",
              "      <td>34.685001</td>\n",
              "      <td>14287600.0</td>\n",
              "      <td>24.984163</td>\n",
              "    </tr>\n",
              "    <tr>\n",
              "      <th>2012-01-06</th>\n",
              "      <td>34.814999</td>\n",
              "      <td>34.310001</td>\n",
              "      <td>34.735001</td>\n",
              "      <td>34.465000</td>\n",
              "      <td>13646600.0</td>\n",
              "      <td>24.825686</td>\n",
              "    </tr>\n",
              "    <tr>\n",
              "      <th>2012-01-09</th>\n",
              "      <td>34.584999</td>\n",
              "      <td>34.400002</td>\n",
              "      <td>34.500000</td>\n",
              "      <td>34.465000</td>\n",
              "      <td>10522600.0</td>\n",
              "      <td>24.825686</td>\n",
              "    </tr>\n",
              "    <tr>\n",
              "      <th>...</th>\n",
              "      <td>...</td>\n",
              "      <td>...</td>\n",
              "      <td>...</td>\n",
              "      <td>...</td>\n",
              "      <td>...</td>\n",
              "      <td>...</td>\n",
              "    </tr>\n",
              "    <tr>\n",
              "      <th>2022-06-17</th>\n",
              "      <td>60.130001</td>\n",
              "      <td>59.130001</td>\n",
              "      <td>59.700001</td>\n",
              "      <td>59.430000</td>\n",
              "      <td>34731500.0</td>\n",
              "      <td>59.430000</td>\n",
              "    </tr>\n",
              "    <tr>\n",
              "      <th>2022-06-21</th>\n",
              "      <td>60.880001</td>\n",
              "      <td>59.009998</td>\n",
              "      <td>59.490002</td>\n",
              "      <td>60.700001</td>\n",
              "      <td>17705000.0</td>\n",
              "      <td>60.700001</td>\n",
              "    </tr>\n",
              "    <tr>\n",
              "      <th>2022-06-22</th>\n",
              "      <td>61.450001</td>\n",
              "      <td>60.320000</td>\n",
              "      <td>60.599998</td>\n",
              "      <td>61.150002</td>\n",
              "      <td>15207100.0</td>\n",
              "      <td>61.150002</td>\n",
              "    </tr>\n",
              "    <tr>\n",
              "      <th>2022-06-23</th>\n",
              "      <td>61.910000</td>\n",
              "      <td>61.230000</td>\n",
              "      <td>61.299999</td>\n",
              "      <td>61.880001</td>\n",
              "      <td>17190900.0</td>\n",
              "      <td>61.880001</td>\n",
              "    </tr>\n",
              "    <tr>\n",
              "      <th>2022-06-24</th>\n",
              "      <td>63.060001</td>\n",
              "      <td>62.110001</td>\n",
              "      <td>62.110001</td>\n",
              "      <td>63.040001</td>\n",
              "      <td>18145700.0</td>\n",
              "      <td>63.040001</td>\n",
              "    </tr>\n",
              "  </tbody>\n",
              "</table>\n",
              "<p>2637 rows × 6 columns</p>\n",
              "</div>\n",
              "      <button class=\"colab-df-convert\" onclick=\"convertToInteractive('df-a637551f-088a-4de3-81d7-fa9cca38e223')\"\n",
              "              title=\"Convert this dataframe to an interactive table.\"\n",
              "              style=\"display:none;\">\n",
              "        \n",
              "  <svg xmlns=\"http://www.w3.org/2000/svg\" height=\"24px\"viewBox=\"0 0 24 24\"\n",
              "       width=\"24px\">\n",
              "    <path d=\"M0 0h24v24H0V0z\" fill=\"none\"/>\n",
              "    <path d=\"M18.56 5.44l.94 2.06.94-2.06 2.06-.94-2.06-.94-.94-2.06-.94 2.06-2.06.94zm-11 1L8.5 8.5l.94-2.06 2.06-.94-2.06-.94L8.5 2.5l-.94 2.06-2.06.94zm10 10l.94 2.06.94-2.06 2.06-.94-2.06-.94-.94-2.06-.94 2.06-2.06.94z\"/><path d=\"M17.41 7.96l-1.37-1.37c-.4-.4-.92-.59-1.43-.59-.52 0-1.04.2-1.43.59L10.3 9.45l-7.72 7.72c-.78.78-.78 2.05 0 2.83L4 21.41c.39.39.9.59 1.41.59.51 0 1.02-.2 1.41-.59l7.78-7.78 2.81-2.81c.8-.78.8-2.07 0-2.86zM5.41 20L4 18.59l7.72-7.72 1.47 1.35L5.41 20z\"/>\n",
              "  </svg>\n",
              "      </button>\n",
              "      \n",
              "  <style>\n",
              "    .colab-df-container {\n",
              "      display:flex;\n",
              "      flex-wrap:wrap;\n",
              "      gap: 12px;\n",
              "    }\n",
              "\n",
              "    .colab-df-convert {\n",
              "      background-color: #E8F0FE;\n",
              "      border: none;\n",
              "      border-radius: 50%;\n",
              "      cursor: pointer;\n",
              "      display: none;\n",
              "      fill: #1967D2;\n",
              "      height: 32px;\n",
              "      padding: 0 0 0 0;\n",
              "      width: 32px;\n",
              "    }\n",
              "\n",
              "    .colab-df-convert:hover {\n",
              "      background-color: #E2EBFA;\n",
              "      box-shadow: 0px 1px 2px rgba(60, 64, 67, 0.3), 0px 1px 3px 1px rgba(60, 64, 67, 0.15);\n",
              "      fill: #174EA6;\n",
              "    }\n",
              "\n",
              "    [theme=dark] .colab-df-convert {\n",
              "      background-color: #3B4455;\n",
              "      fill: #D2E3FC;\n",
              "    }\n",
              "\n",
              "    [theme=dark] .colab-df-convert:hover {\n",
              "      background-color: #434B5C;\n",
              "      box-shadow: 0px 1px 3px 1px rgba(0, 0, 0, 0.15);\n",
              "      filter: drop-shadow(0px 1px 2px rgba(0, 0, 0, 0.3));\n",
              "      fill: #FFFFFF;\n",
              "    }\n",
              "  </style>\n",
              "\n",
              "      <script>\n",
              "        const buttonEl =\n",
              "          document.querySelector('#df-a637551f-088a-4de3-81d7-fa9cca38e223 button.colab-df-convert');\n",
              "        buttonEl.style.display =\n",
              "          google.colab.kernel.accessAllowed ? 'block' : 'none';\n",
              "\n",
              "        async function convertToInteractive(key) {\n",
              "          const element = document.querySelector('#df-a637551f-088a-4de3-81d7-fa9cca38e223');\n",
              "          const dataTable =\n",
              "            await google.colab.kernel.invokeFunction('convertToInteractive',\n",
              "                                                     [key], {});\n",
              "          if (!dataTable) return;\n",
              "\n",
              "          const docLinkHtml = 'Like what you see? Visit the ' +\n",
              "            '<a target=\"_blank\" href=https://colab.research.google.com/notebooks/data_table.ipynb>data table notebook</a>'\n",
              "            + ' to learn more about interactive tables.';\n",
              "          element.innerHTML = '';\n",
              "          dataTable['output_type'] = 'display_data';\n",
              "          await google.colab.output.renderOutput(dataTable, element);\n",
              "          const docLink = document.createElement('div');\n",
              "          docLink.innerHTML = docLinkHtml;\n",
              "          element.appendChild(docLink);\n",
              "        }\n",
              "      </script>\n",
              "    </div>\n",
              "  </div>\n",
              "  "
            ]
          },
          "metadata": {},
          "execution_count": 27
        }
      ]
    },
    {
      "cell_type": "code",
      "source": [
        "# Show price from last 7 days\n",
        "df.tail(7)"
      ],
      "metadata": {
        "colab": {
          "base_uri": "https://localhost:8080/",
          "height": 300
        },
        "id": "jXqdm0f3i6Oa",
        "outputId": "d7c3789e-27df-4f95-d72c-ea6d5fb41439"
      },
      "execution_count": 12,
      "outputs": [
        {
          "output_type": "execute_result",
          "data": {
            "text/plain": [
              "                 High        Low       Open      Close      Volume  Adj Close\n",
              "Date                                                                         \n",
              "2022-06-15  60.639999  58.970001  60.000000  59.669998  19684700.0  59.669998\n",
              "2022-06-16  59.520000  58.250000  58.639999  59.070000  15053800.0  59.070000\n",
              "2022-06-17  60.130001  59.130001  59.700001  59.430000  34731500.0  59.430000\n",
              "2022-06-21  60.880001  59.009998  59.490002  60.700001  17705000.0  60.700001\n",
              "2022-06-22  61.450001  60.320000  60.599998  61.150002  15207100.0  61.150002\n",
              "2022-06-23  61.910000  61.230000  61.299999  61.880001  17190900.0  61.880001\n",
              "2022-06-24  63.060001  62.110001  62.110001  63.040001  18145700.0  63.040001"
            ],
            "text/html": [
              "\n",
              "  <div id=\"df-24f39034-b223-4188-9477-acecc5577ee1\">\n",
              "    <div class=\"colab-df-container\">\n",
              "      <div>\n",
              "<style scoped>\n",
              "    .dataframe tbody tr th:only-of-type {\n",
              "        vertical-align: middle;\n",
              "    }\n",
              "\n",
              "    .dataframe tbody tr th {\n",
              "        vertical-align: top;\n",
              "    }\n",
              "\n",
              "    .dataframe thead th {\n",
              "        text-align: right;\n",
              "    }\n",
              "</style>\n",
              "<table border=\"1\" class=\"dataframe\">\n",
              "  <thead>\n",
              "    <tr style=\"text-align: right;\">\n",
              "      <th></th>\n",
              "      <th>High</th>\n",
              "      <th>Low</th>\n",
              "      <th>Open</th>\n",
              "      <th>Close</th>\n",
              "      <th>Volume</th>\n",
              "      <th>Adj Close</th>\n",
              "    </tr>\n",
              "    <tr>\n",
              "      <th>Date</th>\n",
              "      <th></th>\n",
              "      <th></th>\n",
              "      <th></th>\n",
              "      <th></th>\n",
              "      <th></th>\n",
              "      <th></th>\n",
              "    </tr>\n",
              "  </thead>\n",
              "  <tbody>\n",
              "    <tr>\n",
              "      <th>2022-06-15</th>\n",
              "      <td>60.639999</td>\n",
              "      <td>58.970001</td>\n",
              "      <td>60.000000</td>\n",
              "      <td>59.669998</td>\n",
              "      <td>19684700.0</td>\n",
              "      <td>59.669998</td>\n",
              "    </tr>\n",
              "    <tr>\n",
              "      <th>2022-06-16</th>\n",
              "      <td>59.520000</td>\n",
              "      <td>58.250000</td>\n",
              "      <td>58.639999</td>\n",
              "      <td>59.070000</td>\n",
              "      <td>15053800.0</td>\n",
              "      <td>59.070000</td>\n",
              "    </tr>\n",
              "    <tr>\n",
              "      <th>2022-06-17</th>\n",
              "      <td>60.130001</td>\n",
              "      <td>59.130001</td>\n",
              "      <td>59.700001</td>\n",
              "      <td>59.430000</td>\n",
              "      <td>34731500.0</td>\n",
              "      <td>59.430000</td>\n",
              "    </tr>\n",
              "    <tr>\n",
              "      <th>2022-06-21</th>\n",
              "      <td>60.880001</td>\n",
              "      <td>59.009998</td>\n",
              "      <td>59.490002</td>\n",
              "      <td>60.700001</td>\n",
              "      <td>17705000.0</td>\n",
              "      <td>60.700001</td>\n",
              "    </tr>\n",
              "    <tr>\n",
              "      <th>2022-06-22</th>\n",
              "      <td>61.450001</td>\n",
              "      <td>60.320000</td>\n",
              "      <td>60.599998</td>\n",
              "      <td>61.150002</td>\n",
              "      <td>15207100.0</td>\n",
              "      <td>61.150002</td>\n",
              "    </tr>\n",
              "    <tr>\n",
              "      <th>2022-06-23</th>\n",
              "      <td>61.910000</td>\n",
              "      <td>61.230000</td>\n",
              "      <td>61.299999</td>\n",
              "      <td>61.880001</td>\n",
              "      <td>17190900.0</td>\n",
              "      <td>61.880001</td>\n",
              "    </tr>\n",
              "    <tr>\n",
              "      <th>2022-06-24</th>\n",
              "      <td>63.060001</td>\n",
              "      <td>62.110001</td>\n",
              "      <td>62.110001</td>\n",
              "      <td>63.040001</td>\n",
              "      <td>18145700.0</td>\n",
              "      <td>63.040001</td>\n",
              "    </tr>\n",
              "  </tbody>\n",
              "</table>\n",
              "</div>\n",
              "      <button class=\"colab-df-convert\" onclick=\"convertToInteractive('df-24f39034-b223-4188-9477-acecc5577ee1')\"\n",
              "              title=\"Convert this dataframe to an interactive table.\"\n",
              "              style=\"display:none;\">\n",
              "        \n",
              "  <svg xmlns=\"http://www.w3.org/2000/svg\" height=\"24px\"viewBox=\"0 0 24 24\"\n",
              "       width=\"24px\">\n",
              "    <path d=\"M0 0h24v24H0V0z\" fill=\"none\"/>\n",
              "    <path d=\"M18.56 5.44l.94 2.06.94-2.06 2.06-.94-2.06-.94-.94-2.06-.94 2.06-2.06.94zm-11 1L8.5 8.5l.94-2.06 2.06-.94-2.06-.94L8.5 2.5l-.94 2.06-2.06.94zm10 10l.94 2.06.94-2.06 2.06-.94-2.06-.94-.94-2.06-.94 2.06-2.06.94z\"/><path d=\"M17.41 7.96l-1.37-1.37c-.4-.4-.92-.59-1.43-.59-.52 0-1.04.2-1.43.59L10.3 9.45l-7.72 7.72c-.78.78-.78 2.05 0 2.83L4 21.41c.39.39.9.59 1.41.59.51 0 1.02-.2 1.41-.59l7.78-7.78 2.81-2.81c.8-.78.8-2.07 0-2.86zM5.41 20L4 18.59l7.72-7.72 1.47 1.35L5.41 20z\"/>\n",
              "  </svg>\n",
              "      </button>\n",
              "      \n",
              "  <style>\n",
              "    .colab-df-container {\n",
              "      display:flex;\n",
              "      flex-wrap:wrap;\n",
              "      gap: 12px;\n",
              "    }\n",
              "\n",
              "    .colab-df-convert {\n",
              "      background-color: #E8F0FE;\n",
              "      border: none;\n",
              "      border-radius: 50%;\n",
              "      cursor: pointer;\n",
              "      display: none;\n",
              "      fill: #1967D2;\n",
              "      height: 32px;\n",
              "      padding: 0 0 0 0;\n",
              "      width: 32px;\n",
              "    }\n",
              "\n",
              "    .colab-df-convert:hover {\n",
              "      background-color: #E2EBFA;\n",
              "      box-shadow: 0px 1px 2px rgba(60, 64, 67, 0.3), 0px 1px 3px 1px rgba(60, 64, 67, 0.15);\n",
              "      fill: #174EA6;\n",
              "    }\n",
              "\n",
              "    [theme=dark] .colab-df-convert {\n",
              "      background-color: #3B4455;\n",
              "      fill: #D2E3FC;\n",
              "    }\n",
              "\n",
              "    [theme=dark] .colab-df-convert:hover {\n",
              "      background-color: #434B5C;\n",
              "      box-shadow: 0px 1px 3px 1px rgba(0, 0, 0, 0.15);\n",
              "      filter: drop-shadow(0px 1px 2px rgba(0, 0, 0, 0.3));\n",
              "      fill: #FFFFFF;\n",
              "    }\n",
              "  </style>\n",
              "\n",
              "      <script>\n",
              "        const buttonEl =\n",
              "          document.querySelector('#df-24f39034-b223-4188-9477-acecc5577ee1 button.colab-df-convert');\n",
              "        buttonEl.style.display =\n",
              "          google.colab.kernel.accessAllowed ? 'block' : 'none';\n",
              "\n",
              "        async function convertToInteractive(key) {\n",
              "          const element = document.querySelector('#df-24f39034-b223-4188-9477-acecc5577ee1');\n",
              "          const dataTable =\n",
              "            await google.colab.kernel.invokeFunction('convertToInteractive',\n",
              "                                                     [key], {});\n",
              "          if (!dataTable) return;\n",
              "\n",
              "          const docLinkHtml = 'Like what you see? Visit the ' +\n",
              "            '<a target=\"_blank\" href=https://colab.research.google.com/notebooks/data_table.ipynb>data table notebook</a>'\n",
              "            + ' to learn more about interactive tables.';\n",
              "          element.innerHTML = '';\n",
              "          dataTable['output_type'] = 'display_data';\n",
              "          await google.colab.output.renderOutput(dataTable, element);\n",
              "          const docLink = document.createElement('div');\n",
              "          docLink.innerHTML = docLinkHtml;\n",
              "          element.appendChild(docLink);\n",
              "        }\n",
              "      </script>\n",
              "    </div>\n",
              "  </div>\n",
              "  "
            ]
          },
          "metadata": {},
          "execution_count": 12
        }
      ]
    },
    {
      "cell_type": "code",
      "source": [
        "# Get the number of rows and columns in the data set\n",
        "df.shape"
      ],
      "metadata": {
        "colab": {
          "base_uri": "https://localhost:8080/"
        },
        "id": "3y_L_sn1kDiP",
        "outputId": "e535336d-7ee4-4d8a-e69d-036d5538b568"
      },
      "execution_count": 11,
      "outputs": [
        {
          "output_type": "execute_result",
          "data": {
            "text/plain": [
              "(2637, 6)"
            ]
          },
          "metadata": {},
          "execution_count": 11
        }
      ]
    },
    {
      "cell_type": "code",
      "source": [
        "#Visualize the closing price\n",
        "plt.figure(figsize=(16,10))\n",
        "plt.style.use('dark_background')\n",
        "plt.title('Close price history',fontsize=20)\n",
        "plt.plot(df['Close'])\n",
        "plt.xlabel('Date',fontsize=20)\n",
        "plt.ylabel('Close Price ($)',fontsize=20)\n",
        "plt.show()"
      ],
      "metadata": {
        "colab": {
          "base_uri": "https://localhost:8080/",
          "height": 514
        },
        "id": "MJWsy43fkc4q",
        "outputId": "f19ae069-b602-44d1-84ab-5bbb5895951b"
      },
      "execution_count": 15,
      "outputs": [
        {
          "output_type": "display_data",
          "data": {
            "text/plain": [
              "<Figure size 1152x720 with 1 Axes>"
            ],
            "image/png": "[encoded data removed]"
          },
          "metadata": {}
        }
      ]
    },
    {
      "cell_type": "code",
      "source": [
        "#Create a new dataframe with only the \"Close\" column\n",
        "data = df.filter(['Close'])\n",
        "#Convert dataframe to numpy array\n",
        "dataset = data.values\n",
        "#Get the number of rows to train the model on\n",
        "training_data_len = math.ceil(len(dataset) * 0.8)\n",
        "\n",
        "training_data_len"
      ],
      "metadata": {
        "colab": {
          "base_uri": "https://localhost:8080/"
        },
        "id": "bIHouFvgqh5E",
        "outputId": "b57a7684-7400-4be3-8ce7-55cf29e8aff8"
      },
      "execution_count": 25,
      "outputs": [
        {
          "output_type": "execute_result",
          "data": {
            "text/plain": [
              "2110"
            ]
          },
          "metadata": {},
          "execution_count": 25
        }
      ]
    },
    {
      "cell_type": "code",
      "source": [
        "# Scale the data\n",
        "scaler = MinMaxScaler(feature_range=(0,1))\n",
        "scaled_data = scaler.fit_transform(dataset)\n",
        "\n",
        "scaled_data"
      ],
      "metadata": {
        "colab": {
          "base_uri": "https://localhost:8080/"
        },
        "id": "oa7dAfAutR4D",
        "outputId": "76111fd0-71bc-4b83-8a76-7a4b61270f38"
      },
      "execution_count": 29,
      "outputs": [
        {
          "output_type": "execute_result",
          "data": {
            "text/plain": [
              "array([[0.04814308],\n",
              "       [0.0414183 ],\n",
              "       [0.03637483],\n",
              "       ...,\n",
              "       [0.84533096],\n",
              "       [0.86764487],\n",
              "       [0.90310261]])"
            ]
          },
          "metadata": {},
          "execution_count": 29
        }
      ]
    },
    {
      "cell_type": "code",
      "source": [
        "#Create the training date set\n",
        "#Create the scaled training data set\n",
        "train_data = scaled_data[0:training_data_len , :]\n",
        "#Split the data into x_train and y_train data set\n",
        "x_train = []\n",
        "y_train = []\n",
        "\n",
        "for i in range(60,len(train_data)):\n",
        "  x_train.append(train_data[i-60:i, 0])\n",
        "  y_train.append(train_data[i, 0])\n",
        "  if i <= 61:\n",
        "    print(x_train)\n",
        "    print(y_train)\n",
        "    print()\n",
        " "
      ],
      "metadata": {
        "colab": {
          "base_uri": "https://localhost:8080/"
        },
        "id": "LIhpYvzyuttS",
        "outputId": "65d96a17-2d93-4ef1-ada2-67fc4ea5be58"
      },
      "execution_count": 35,
      "outputs": [
        {
          "output_type": "stream",
          "name": "stdout",
          "text": [
            "[array([0.04814308, 0.0414183 , 0.03637483, 0.02965004, 0.02965004,\n",
            "       0.03591622, 0.01635335, 0.00886446, 0.        , 0.00550207,\n",
            "       0.00917008, 0.0070304 , 0.01681184, 0.02353662, 0.01390805,\n",
            "       0.02200829, 0.01558924, 0.00687765, 0.00718327, 0.00825311,\n",
            "       0.01314383, 0.01283821, 0.01665909, 0.01589486, 0.02384235,\n",
            "       0.02047996, 0.01497789, 0.0145194 , 0.02216116, 0.02919156,\n",
            "       0.0215498 , 0.0285802 , 0.03148411, 0.02796885, 0.03454076,\n",
            "       0.03347092, 0.03071989, 0.02812172, 0.02842734, 0.04386371,\n",
            "       0.03988997, 0.03347092, 0.03423514, 0.02705188, 0.02751036,\n",
            "       0.03484638, 0.03851451, 0.04829594, 0.04982427, 0.04936579,\n",
            "       0.05104698, 0.04844881, 0.05211682, 0.05502061, 0.06312097,\n",
            "       0.06770595, 0.06877579, 0.07504209, 0.0745836 , 0.08665758])]\n",
            "[0.10423352686863319]\n",
            "\n",
            "[array([0.04814308, 0.0414183 , 0.03637483, 0.02965004, 0.02965004,\n",
            "       0.03591622, 0.01635335, 0.00886446, 0.        , 0.00550207,\n",
            "       0.00917008, 0.0070304 , 0.01681184, 0.02353662, 0.01390805,\n",
            "       0.02200829, 0.01558924, 0.00687765, 0.00718327, 0.00825311,\n",
            "       0.01314383, 0.01283821, 0.01665909, 0.01589486, 0.02384235,\n",
            "       0.02047996, 0.01497789, 0.0145194 , 0.02216116, 0.02919156,\n",
            "       0.0215498 , 0.0285802 , 0.03148411, 0.02796885, 0.03454076,\n",
            "       0.03347092, 0.03071989, 0.02812172, 0.02842734, 0.04386371,\n",
            "       0.03988997, 0.03347092, 0.03423514, 0.02705188, 0.02751036,\n",
            "       0.03484638, 0.03851451, 0.04829594, 0.04982427, 0.04936579,\n",
            "       0.05104698, 0.04844881, 0.05211682, 0.05502061, 0.06312097,\n",
            "       0.06770595, 0.06877579, 0.07504209, 0.0745836 , 0.08665758]), array([0.0414183 , 0.03637483, 0.02965004, 0.02965004, 0.03591622,\n",
            "       0.01635335, 0.00886446, 0.        , 0.00550207, 0.00917008,\n",
            "       0.0070304 , 0.01681184, 0.02353662, 0.01390805, 0.02200829,\n",
            "       0.01558924, 0.00687765, 0.00718327, 0.00825311, 0.01314383,\n",
            "       0.01283821, 0.01665909, 0.01589486, 0.02384235, 0.02047996,\n",
            "       0.01497789, 0.0145194 , 0.02216116, 0.02919156, 0.0215498 ,\n",
            "       0.0285802 , 0.03148411, 0.02796885, 0.03454076, 0.03347092,\n",
            "       0.03071989, 0.02812172, 0.02842734, 0.04386371, 0.03988997,\n",
            "       0.03347092, 0.03423514, 0.02705188, 0.02751036, 0.03484638,\n",
            "       0.03851451, 0.04829594, 0.04982427, 0.04936579, 0.05104698,\n",
            "       0.04844881, 0.05211682, 0.05502061, 0.06312097, 0.06770595,\n",
            "       0.06877579, 0.07504209, 0.0745836 , 0.08665758, 0.10423353])]\n",
            "[0.10423352686863319, 0.1072902986354658]\n",
            "\n"
          ]
        }
      ]
    }
  ]
}